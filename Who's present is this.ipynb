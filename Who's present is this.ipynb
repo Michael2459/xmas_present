{
 "cells": [
  {
   "cell_type": "markdown",
   "metadata": {},
   "source": [
    "# The greatest innovation in Christmas present giving since presents were invented!\n",
    "\n",
    "Well, I found we had some numbered present tags and I thought that these seem to be a great innovation and save having to write everyone's name.  Phew! Then it's a simple matter of checking the present number against the online database to find out who to give it to.  Simples.  So efficient!"
   ]
  },
  {
   "cell_type": "code",
   "execution_count": 1,
   "metadata": {},
   "outputs": [
    {
     "name": "stdout",
     "output_type": "stream",
     "text": [
      "What do you think of that?  Brilliant\n"
     ]
    }
   ],
   "source": [
    "response = input('What do you think of that?  ')"
   ]
  },
  {
   "cell_type": "code",
   "execution_count": 2,
   "metadata": {},
   "outputs": [
    {
     "name": "stdout",
     "output_type": "stream",
     "text": [
      "Great!  I'm glad we agree on things.\n"
     ]
    }
   ],
   "source": [
    "print(\"Great!  I'm glad we agree on things.\")  "
   ]
  },
  {
   "cell_type": "code",
   "execution_count": 3,
   "metadata": {},
   "outputs": [],
   "source": [
    "presents = {3 :  \"Trognon\",\n",
    "4 : \"Trognon\",\n",
    "7 : \"Muzzletoff\",\n",
    "16 : \"Muzzletoff\",\n",
    "17 : \"Nico\",\n",
    "22 : \"Nico\" }"
   ]
  },
  {
   "cell_type": "code",
   "execution_count": 4,
   "metadata": {},
   "outputs": [],
   "source": [
    "import time"
   ]
  },
  {
   "cell_type": "code",
   "execution_count": 5,
   "metadata": {},
   "outputs": [
    {
     "name": "stdout",
     "output_type": "stream",
     "text": [
      "So, what is the parcel number? 17\n"
     ]
    }
   ],
   "source": [
    "x = int(input('So, what is the parcel number? '))"
   ]
  },
  {
   "cell_type": "code",
   "execution_count": 6,
   "metadata": {},
   "outputs": [
    {
     "name": "stdout",
     "output_type": "stream",
     "text": [
      "Thank you.  Let me go and look that up...\n",
      "This present is for Nico.  Enjoy!"
     ]
    }
   ],
   "source": [
    "print('Thank you.  Let me go and look that up...')\n",
    "recipient = presents[(x)]\n",
    "time.sleep(2)\n",
    "print('This present is for', recipient, end =\".  Enjoy!\")"
   ]
  },
  {
   "cell_type": "markdown",
   "metadata": {},
   "source": [
    "##  Thank you for using this service.  Merry Christmas!"
   ]
  }
 ],
 "metadata": {
  "kernelspec": {
   "display_name": "Python 3",
   "language": "python",
   "name": "python3"
  },
  "language_info": {
   "codemirror_mode": {
    "name": "ipython",
    "version": 3
   },
   "file_extension": ".py",
   "mimetype": "text/x-python",
   "name": "python",
   "nbconvert_exporter": "python",
   "pygments_lexer": "ipython3",
   "version": "3.8.3"
  }
 },
 "nbformat": 4,
 "nbformat_minor": 4
}
